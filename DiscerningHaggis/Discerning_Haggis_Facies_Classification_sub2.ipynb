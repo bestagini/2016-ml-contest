{
 "cells": [
  {
   "cell_type": "markdown",
   "metadata": {},
   "source": [
    "# *Discerning Haggis* 2016-ml-contest submission\n",
    "\n",
    "**Author:** [Carlos Alberto da Costa Filho](http://www.researchgate.net/profile/Carlos_Da_Costa_Filho), University of Edinburgh\n",
    "\n",
    "![UoE](https://www.eusa.ed.ac.uk/asset/Organisation/16256/School%20Pages%20GeoSciences.jpg?thumbnail_width=1140&thumbnail_height=150&resize_type=ResizeFitAll)\n"
   ]
  },
  {
   "cell_type": "markdown",
   "metadata": {},
   "source": [
    "## Load libraries"
   ]
  },
  {
   "cell_type": "code",
   "execution_count": 1,
   "metadata": {
    "collapsed": false
   },
   "outputs": [],
   "source": [
    "%matplotlib inline\n",
    "import pandas as pd\n",
    "import numpy as np\n",
    "import matplotlib as mpl\n",
    "import matplotlib.pyplot as plt\n",
    "import matplotlib.colors as colors\n",
    "from mpl_toolkits.axes_grid1 import make_axes_locatable\n",
    "\n",
    "import seaborn as sns\n",
    "sns.set(style='whitegrid',\n",
    "        rc={'lines.linewidth': 2.5,\n",
    "            'figure.figsize': (10, 8),\n",
    "            'text.usetex': False,\n",
    "            # 'font.family': 'sans-serif',\n",
    "            # 'font.sans-serif': 'Optima LT Std',\n",
    "        })\n",
    "\n",
    "from pandas import set_option\n",
    "set_option(\"display.max_rows\", 10)\n",
    "pd.options.mode.chained_assignment = None\n",
    "\n",
    "from sklearn import preprocessing\n",
    "from sklearn.model_selection import train_test_split\n",
    "\n",
    "from sklearn.neural_network import MLPClassifier\n",
    "from sklearn.metrics import confusion_matrix\n",
    "from scipy.stats import truncnorm"
   ]
  },
  {
   "cell_type": "markdown",
   "metadata": {},
   "source": [
    "## Convenience functions"
   ]
  },
  {
   "cell_type": "code",
   "execution_count": 2,
   "metadata": {
    "collapsed": true
   },
   "outputs": [],
   "source": [
    "def make_facies_log_plot(logs, facies_colors):\n",
    "    #make sure logs are sorted by depth\n",
    "    logs = logs.sort_values(by='Depth')\n",
    "    cmap_facies = colors.ListedColormap(\n",
    "            facies_colors[0:len(facies_colors)], 'indexed')\n",
    "    \n",
    "    ztop=logs.Depth.min(); zbot=logs.Depth.max()\n",
    "    \n",
    "    cluster=np.repeat(np.expand_dims(logs['Facies'].values,1), 100, 1)\n",
    "    \n",
    "    f, ax = plt.subplots(nrows=1, ncols=6, figsize=(8, 12))\n",
    "    ax[0].plot(logs.GR, logs.Depth, '-g')\n",
    "    ax[1].plot(logs.ILD_log10, logs.Depth, '-')\n",
    "    ax[2].plot(logs.DeltaPHI, logs.Depth, '-', color='0.5')\n",
    "    ax[3].plot(logs.PHIND, logs.Depth, '-', color='r')\n",
    "    ax[4].plot(logs.PE, logs.Depth, '-', color='black')\n",
    "    im=ax[5].imshow(cluster, interpolation='none', aspect='auto',\n",
    "                    cmap=cmap_facies,vmin=1,vmax=9)\n",
    "    \n",
    "    divider = make_axes_locatable(ax[5])\n",
    "    cax = divider.append_axes(\"right\", size=\"20%\", pad=0.05)\n",
    "    cbar=plt.colorbar(im, cax=cax)\n",
    "    cbar.set_label((17*' ').join([' SS ', 'CSiS', 'FSiS', \n",
    "                                'SiSh', ' MS ', ' WS ', ' D  ', \n",
    "                                ' PS ', ' BS ']))\n",
    "    cbar.set_ticks(range(0,1)); cbar.set_ticklabels('')\n",
    "    \n",
    "    for i in range(len(ax)-1):\n",
    "        ax[i].set_ylim(ztop,zbot)\n",
    "        ax[i].invert_yaxis()\n",
    "        ax[i].grid()\n",
    "        ax[i].locator_params(axis='x', nbins=3)\n",
    "    \n",
    "    ax[0].set_xlabel(\"GR\")\n",
    "    ax[0].set_xlim(logs.GR.min(),logs.GR.max())\n",
    "    ax[1].set_xlabel(\"ILD_log10\")\n",
    "    ax[1].set_xlim(logs.ILD_log10.min(),logs.ILD_log10.max())\n",
    "    ax[2].set_xlabel(\"DeltaPHI\")\n",
    "    ax[2].set_xlim(logs.DeltaPHI.min(),logs.DeltaPHI.max())\n",
    "    ax[3].set_xlabel(\"PHIND\")\n",
    "    ax[3].set_xlim(logs.PHIND.min(),logs.PHIND.max())\n",
    "    ax[4].set_xlabel(\"PE\")\n",
    "    ax[4].set_xlim(logs.PE.min(),logs.PE.max())\n",
    "    ax[5].set_xlabel('Facies')\n",
    "    \n",
    "    ax[1].set_yticklabels([]); ax[2].set_yticklabels([]); ax[3].set_yticklabels([])\n",
    "    ax[4].set_yticklabels([]); ax[5].set_yticklabels([])\n",
    "    ax[5].set_xticklabels([])\n",
    "    f.suptitle('Well: %s'%logs.iloc[0]['Well Name'], fontsize=14,y=0.94)\n",
    "\n",
    "def accuracy(conf):\n",
    "    total_correct = 0.\n",
    "    nb_classes = conf.shape[0]\n",
    "    for i in np.arange(0,nb_classes):\n",
    "        total_correct += conf[i][i]\n",
    "    acc = total_correct/sum(sum(conf))\n",
    "    return acc\n",
    "\n",
    "\n",
    "adjacent_facies = np.array([[1], [0,2], [1], [4], [3,5], [4,6,7], [5,7], [5,6,8], [6,7]])\n",
    "\n",
    "def accuracy_adjacent(conf, adjacent_facies):\n",
    "    nb_classes = conf.shape[0]\n",
    "    total_correct = 0.\n",
    "    for i in np.arange(0,nb_classes):\n",
    "        total_correct += conf[i][i]\n",
    "        for j in adjacent_facies[i]:\n",
    "            total_correct += conf[i][j]\n",
    "    return total_correct / sum(sum(conf))\n"
   ]
  },
  {
   "cell_type": "markdown",
   "metadata": {},
   "source": [
    "## Load, treat and color data\n",
    "We try smoothing the data using several windows."
   ]
  },
  {
   "cell_type": "code",
   "execution_count": 158,
   "metadata": {
    "collapsed": true
   },
   "outputs": [],
   "source": [
    "perf = []\n",
    "windows = []"
   ]
  },
  {
   "cell_type": "code",
   "execution_count": 176,
   "metadata": {
    "collapsed": false
   },
   "outputs": [
    {
     "name": "stdout",
     "output_type": "stream",
     "text": [
      "Predicted accuracy: 79.157%\n",
      "Predicted accuracy: 80.000%\n",
      "Predicted accuracy: 80.723%\n",
      "Predicted accuracy: 81.446%\n",
      "Predicted accuracy: 79.157%\n",
      "Predicted accuracy: 76.747%\n",
      "Predicted accuracy: 79.880%\n",
      "Predicted accuracy: 80.000%\n",
      "Predicted accuracy: 82.771%\n",
      "Predicted accuracy: 81.446%\n",
      "Predicted accuracy: 78.916%\n",
      "Predicted accuracy: 80.964%\n",
      "Predicted accuracy: 79.759%\n",
      "Predicted accuracy: 78.193%\n",
      "Predicted accuracy: 80.000%\n",
      "Done\n"
     ]
    }
   ],
   "source": [
    "windows_new = list(range(15, 30, 1))\n",
    "for window in windows_new:\n",
    "    validationFull = pd.read_csv('../validation_data_nofacies.csv')\n",
    "    training_data = pd.read_csv('../facies_vectors.csv')\n",
    "\n",
    "    # Treat Data\n",
    "    training_data.fillna(training_data.mean(),inplace=True)\n",
    "    for col in ['GR', 'ILD_log10', 'DeltaPHI', 'PHIND', 'PE']:\n",
    "        training_data[col] = training_data[col].rolling(window=window).sum()\n",
    "    training_data.fillna(method='backfill',inplace=True)\n",
    "    training_data['Well Name'] = training_data['Well Name'].astype('category')\n",
    "    training_data['Formation'] = training_data['Formation'].astype('category')\n",
    "    training_data['Well Name'].unique()\n",
    "    training_data.describe()\n",
    "\n",
    "    # Color Data\n",
    "    # 1=sandstone  2=c_siltstone   3=f_siltstone \n",
    "    # 4=marine_silt_shale 5=mudstone 6=wackestone 7=dolomite\n",
    "    # 8=packstone 9=bafflestone\n",
    "    facies_colors = ['#F4D03F', '#F5B041','#DC7633','#6E2C00',\n",
    "           '#1B4F72','#2E86C1', '#AED6F1', '#A569BD', '#196F3D']\n",
    "\n",
    "    facies_labels = ['SS', 'CSiS', 'FSiS', 'SiSh', 'MS',\n",
    "                     'WS', 'D','PS', 'BS']\n",
    "    #facies_color_map is a dictionary that maps facies labels\n",
    "    #to their respective colors\n",
    "    facies_color_map = {}\n",
    "    for ind, label in enumerate(facies_labels):\n",
    "        facies_color_map[label] = facies_colors[ind]\n",
    "\n",
    "    def label_facies(row, labels):\n",
    "        return labels[ row['Facies'] -1]\n",
    "\n",
    "    training_data.loc[:,'FaciesLabels'] = training_data.apply(lambda row: label_facies(row, facies_labels), axis=1)\n",
    "    #make_facies_log_plot(\n",
    "    #    training_data[training_data['Well Name'] == 'SHRIMPLIN'],\n",
    "    #    facies_colors)\n",
    "\n",
    "    correct_facies_labels = training_data['Facies'].values\n",
    "\n",
    "    feature_vectors = training_data.drop(['Formation', 'Well Name', 'Depth','Facies','FaciesLabels'], axis=1)\n",
    "    feature_vectors.describe()\n",
    "\n",
    "    scaler = preprocessing.StandardScaler().fit(feature_vectors)\n",
    "    scaled_features = scaler.transform(feature_vectors)\n",
    "\n",
    "    X_train, X_test, y_train, y_test = train_test_split(scaled_features,\n",
    "            correct_facies_labels, test_size=0.2)\n",
    "\n",
    "    clf = MLPClassifier(solver='lbfgs', alpha=.1,\n",
    "                        hidden_layer_sizes=(300,300,300))\n",
    "    clf.fit(X_train,y_train)\n",
    "    conf_te = confusion_matrix(y_test, clf.predict(X_test))\n",
    "    perf.append(100*accuracy(conf_te))\n",
    "    print('Predicted accuracy: %.3f%%' % (100*accuracy(conf_te),))\n",
    "print('Done')\n",
    "windows += windows_new"
   ]
  },
  {
   "cell_type": "code",
   "execution_count": 181,
   "metadata": {
    "collapsed": false
   },
   "outputs": [
    {
     "data": {
      "text/plain": [
       "[<matplotlib.lines.Line2D at 0x7f21821c5b00>]"
      ]
     },
     "execution_count": 181,
     "metadata": {},
     "output_type": "execute_result"
    },
    {
     "data": {
      "image/png": "[encoded data removed]",
      "text/plain": [
       "<matplotlib.figure.Figure at 0x7f2182971198>"
      ]
     },
     "metadata": {},
     "output_type": "display_data"
    }
   ],
   "source": [
    "p = np.poly1d(np.polyfit(windows, perf, 2))\n",
    "f, ax = plt.subplots(figsize=(5,5))\n",
    "ax.plot(windows, perf, 'o')\n",
    "ax.plot(range(max(windows)+1), p(range(max(windows)+1)))"
   ]
  },
  {
   "cell_type": "code",
   "execution_count": 183,
   "metadata": {
    "collapsed": false
   },
   "outputs": [
    {
     "name": "stdout",
     "output_type": "stream",
     "text": [
      "Predicted accuracy: 79.880%\n"
     ]
    }
   ],
   "source": [
    "validationFull = pd.read_csv('../validation_data_nofacies.csv')\n",
    "training_data = pd.read_csv('../facies_vectors.csv')\n",
    "\n",
    "# Treat Data\n",
    "training_data.fillna(training_data.mean(),inplace=True)\n",
    "for col in ['GR', 'ILD_log10', 'DeltaPHI', 'PHIND', 'PE']:\n",
    "    training_data[col] = training_data[col].rolling(window=25).sum()\n",
    "training_data.fillna(method='backfill',inplace=True)\n",
    "training_data['Well Name'] = training_data['Well Name'].astype('category')\n",
    "training_data['Formation'] = training_data['Formation'].astype('category')\n",
    "training_data['Well Name'].unique()\n",
    "training_data.describe()\n",
    "\n",
    "# Color Data\n",
    "# 1=sandstone  2=c_siltstone   3=f_siltstone \n",
    "# 4=marine_silt_shale 5=mudstone 6=wackestone 7=dolomite\n",
    "# 8=packstone 9=bafflestone\n",
    "facies_colors = ['#F4D03F', '#F5B041','#DC7633','#6E2C00',\n",
    "       '#1B4F72','#2E86C1', '#AED6F1', '#A569BD', '#196F3D']\n",
    "\n",
    "facies_labels = ['SS', 'CSiS', 'FSiS', 'SiSh', 'MS',\n",
    "                 'WS', 'D','PS', 'BS']\n",
    "#facies_color_map is a dictionary that maps facies labels\n",
    "#to their respective colors\n",
    "facies_color_map = {}\n",
    "for ind, label in enumerate(facies_labels):\n",
    "    facies_color_map[label] = facies_colors[ind]\n",
    "\n",
    "def label_facies(row, labels):\n",
    "    return labels[ row['Facies'] -1]\n",
    "\n",
    "training_data.loc[:,'FaciesLabels'] = training_data.apply(lambda row: label_facies(row, facies_labels), axis=1)\n",
    "#make_facies_log_plot(\n",
    "#    training_data[training_data['Well Name'] == 'SHRIMPLIN'],\n",
    "#    facies_colors)\n",
    "\n",
    "correct_facies_labels = training_data['Facies'].values\n",
    "\n",
    "feature_vectors = training_data.drop(['Formation', 'Well Name', 'Depth','Facies','FaciesLabels'], axis=1)\n",
    "feature_vectors.describe()\n",
    "\n",
    "scaler = preprocessing.StandardScaler().fit(feature_vectors)\n",
    "scaled_features = scaler.transform(feature_vectors)\n",
    "\n",
    "X_train, X_test, y_train, y_test = train_test_split(scaled_features,\n",
    "        correct_facies_labels, test_size=0.2)\n",
    "\n",
    "clf = MLPClassifier(solver='lbfgs', alpha=.1,\n",
    "                    hidden_layer_sizes=(300,300,300))\n",
    "clf.fit(X_train,y_train)\n",
    "conf_te = confusion_matrix(y_test, clf.predict(X_test))\n",
    "\n",
    "print('Predicted accuracy: %.3f%%' % (100*accuracy(conf_te),))"
   ]
  },
  {
   "cell_type": "markdown",
   "metadata": {},
   "source": [
    "## Retrain and predict\n",
    "Finally we train a neural network using *all* data available, and apply it to our blind test."
   ]
  },
  {
   "cell_type": "code",
   "execution_count": 190,
   "metadata": {
    "collapsed": false
   },
   "outputs": [],
   "source": [
    "clf_final = MLPClassifier(solver='lbfgs', alpha=0.1,\n",
    "                        hidden_layer_sizes=(300,300,300))\n",
    "clf_final.fit(scaled_features,correct_facies_labels)\n",
    "\n",
    "validationFullsm = validationFull.copy()\n",
    "for col in ['GR', 'ILD_log10', 'DeltaPHI', 'PHIND', 'PE']:\n",
    "    validationFullsm[col] = validationFullsm[col].rolling(window=25).sum()\n",
    "validationFullsm.fillna(method='backfill',inplace=True)\n",
    "\n",
    "validation_features = validationFullsm.drop(['Facies', 'Formation', 'Well Name', 'Depth'], axis=1)\n",
    "scaled_validation = scaler.transform(validation_features)\n",
    "validation_output = clf_final.predict(scaled_validation)\n",
    "validationFull['Facies']=validation_output\n",
    "validationFull.to_csv('well_data_with_facies_DH_sub2.csv')"
   ]
  },
  {
   "cell_type": "code",
   "execution_count": null,
   "metadata": {
    "collapsed": false
   },
   "outputs": [],
   "source": []
  },
  {
   "cell_type": "code",
   "execution_count": null,
   "metadata": {
    "collapsed": true
   },
   "outputs": [],
   "source": []
  }
 ],
 "metadata": {
  "kernelspec": {
   "display_name": "Python 3",
   "language": "python",
   "name": "python3"
  },
  "language_info": {
   "codemirror_mode": {
    "name": "ipython",
    "version": 3
   },
   "file_extension": ".py",
   "mimetype": "text/x-python",
   "name": "python",
   "nbconvert_exporter": "python",
   "pygments_lexer": "ipython3",
   "version": "3.5.2"
  }
 },
 "nbformat": 4,
 "nbformat_minor": 2
}
